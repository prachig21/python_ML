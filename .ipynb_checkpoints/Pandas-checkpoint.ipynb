{
 "cells": [
  {
   "cell_type": "code",
   "execution_count": null,
   "id": "99508d43",
   "metadata": {},
   "outputs": [],
   "source": [
    "import numpy as np\n",
    "import pandas as pd"
   ]
  },
  {
   "cell_type": "code",
   "execution_count": null,
   "id": "fb2021af",
   "metadata": {},
   "outputs": [],
   "source": [
    "dict1 = {\n",
    "    \"name\":['harry','prachi','ashu','neha'],\n",
    "    \"marks\":[95,12,45,67],\n",
    "    \"city\":['rampur','kolkata','bareilly','antartica']\n",
    "}"
   ]
  },
  {
   "cell_type": "code",
   "execution_count": null,
   "id": "6f4076db",
   "metadata": {},
   "outputs": [],
   "source": [
    "df = pd.DataFrame(dict1)"
   ]
  },
  {
   "cell_type": "code",
   "execution_count": null,
   "id": "45631cb7",
   "metadata": {},
   "outputs": [],
   "source": [
    "df"
   ]
  },
  {
   "cell_type": "code",
   "execution_count": null,
   "id": "ba3b48b2",
   "metadata": {},
   "outputs": [],
   "source": [
    "df.to_csv('friends.csv')  #create a excel sheet and put all dataframe in it"
   ]
  },
  {
   "cell_type": "code",
   "execution_count": null,
   "id": "b9d7c8a7",
   "metadata": {},
   "outputs": [],
   "source": [
    "df.to_csv('friends.csv',index=False)  #remove index from excel sheet"
   ]
  },
  {
   "cell_type": "code",
   "execution_count": null,
   "id": "041866b2",
   "metadata": {},
   "outputs": [],
   "source": [
    "df.head(2)  #starting rows"
   ]
  },
  {
   "cell_type": "code",
   "execution_count": null,
   "id": "5b3353be",
   "metadata": {
    "scrolled": true
   },
   "outputs": [],
   "source": [
    "df.tail(2)  #last 2 rows"
   ]
  },
  {
   "cell_type": "code",
   "execution_count": null,
   "id": "10db1743",
   "metadata": {
    "scrolled": true
   },
   "outputs": [],
   "source": [
    "df.describe()  ## it will show mean,std,min,max,count of numeric column"
   ]
  },
  {
   "cell_type": "code",
   "execution_count": null,
   "id": "8745350d",
   "metadata": {},
   "outputs": [],
   "source": [
    "prachi = pd.read_csv('prachi.csv')"
   ]
  },
  {
   "cell_type": "code",
   "execution_count": null,
   "id": "fef58041",
   "metadata": {},
   "outputs": [],
   "source": [
    "prachi"
   ]
  },
  {
   "cell_type": "code",
   "execution_count": null,
   "id": "baa457dd",
   "metadata": {},
   "outputs": [],
   "source": [
    "prachi['speed']"
   ]
  },
  {
   "cell_type": "code",
   "execution_count": null,
   "id": "f84f042e",
   "metadata": {},
   "outputs": [],
   "source": [
    "prachi['speed'][0]"
   ]
  },
  {
   "cell_type": "code",
   "execution_count": null,
   "id": "ed670498",
   "metadata": {},
   "outputs": [],
   "source": [
    "prachi['speed'][0]= 50"
   ]
  },
  {
   "cell_type": "code",
   "execution_count": null,
   "id": "387bb496",
   "metadata": {},
   "outputs": [],
   "source": [
    "prachi"
   ]
  },
  {
   "cell_type": "code",
   "execution_count": null,
   "id": "f79c007b",
   "metadata": {},
   "outputs": [],
   "source": [
    "prachi.to_csv('prachi.csv')"
   ]
  },
  {
   "cell_type": "code",
   "execution_count": null,
   "id": "38dd1e36",
   "metadata": {},
   "outputs": [],
   "source": [
    "#index change\n",
    "prachi.index = ['first','second','third','fourth']"
   ]
  },
  {
   "cell_type": "code",
   "execution_count": null,
   "id": "1ebd6bcb",
   "metadata": {},
   "outputs": [],
   "source": [
    "prachi"
   ]
  },
  {
   "cell_type": "code",
   "execution_count": null,
   "id": "bc0f1aca",
   "metadata": {},
   "outputs": [],
   "source": [
    "# Pandas is an open source data analysis library written in python\n",
    "# It leverages the power and speed of numpy to make data analysis an preprocessing easy for data scientists\n",
    "# Pandas is fast and it has high performance & productivity for users.\n",
    "\n",
    "\n",
    "#***Pandas generally provide two data structures for manipulating data, They are:*** \n",
    "\n",
    "# Series\n",
    "# DataFrame\n",
    "\n",
    "\n"
   ]
  },
  {
   "cell_type": "code",
   "execution_count": null,
   "id": "4b0691c9",
   "metadata": {},
   "outputs": [],
   "source": [
    "# series -  Pandas Series is a one-dimensional labeled array capable of holding data of any type (integer, string, float, python objects, etc.).\n",
    "# Pandas Series is nothing but a column in an excel sheet. Labels need not be unique but must be a hashable type.\n",
    "\n",
    "# datafrome - Pandas DataFrame is a two-dimensional size-mutable, potentially heterogeneous tabular data structure with labeled axes (rows and columns). \n",
    "# A Data frame is a two-dimensional data structure, i.e., data is aligned in a tabular fashion in rows and columns. Pandas DataFrame consists of three principal components, the data, rows, and columns."
   ]
  },
  {
   "cell_type": "code",
   "execution_count": null,
   "id": "fc20ff6e",
   "metadata": {},
   "outputs": [],
   "source": []
  }
 ],
 "metadata": {
  "kernelspec": {
   "display_name": "Python 3 (ipykernel)",
   "language": "python",
   "name": "python3"
  },
  "language_info": {
   "codemirror_mode": {
    "name": "ipython",
    "version": 3
   },
   "file_extension": ".py",
   "mimetype": "text/x-python",
   "name": "python",
   "nbconvert_exporter": "python",
   "pygments_lexer": "ipython3",
   "version": "3.9.7"
  }
 },
 "nbformat": 4,
 "nbformat_minor": 5
}
